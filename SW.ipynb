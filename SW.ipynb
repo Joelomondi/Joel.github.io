{
 "cells": [
  {
   "cell_type": "code",
   "execution_count": 27,
   "metadata": {},
   "outputs": [],
   "source": [
    "import pandas as pd\n",
    "import numpy as np\n",
    "import sklearn\n",
    "import matplotlib.pyplot as plt\n",
    "from IPython.display import Image, display_png\n",
    "import seaborn as sns\n",
    "from pyproj import Proj, transform"
   ]
  },
  {
   "cell_type": "markdown",
   "metadata": {},
   "source": [
    "This project got me interested in understanding the various scottish producing regions and the characteristic of whisky by regions. \n",
    "\n",
    "The inspiration of this dataset is try to predict which distillery make the most pungent whisky. From various literature on Whisky regions of Scotland, Islay region produces the malts that are pungent with peaty, smoke and are saline. They evoke anything from linseed to mossy, pepper to purity,carbolic to floral paltes.\n",
    "\n",
    "Key Characteristic of PEATY whisky are:\n",
    "PEATY:\n",
    "Phenols:   Tar Like\n",
    "Smokey:   Wood Smoke\n",
    "Sea Tangle:   Sea Shore/Sea weed\n",
    "Iodine:   Sea Breeze\n",
    "Medicinal:   TCP\n",
    "Kippery:   Smoked Fish\n",
    "Birchy:   Mossy\n"
   ]
  },
  {
   "cell_type": "code",
   "execution_count": 28,
   "metadata": {},
   "outputs": [
    {
     "data": {
      "text/html": [
       "<div>\n",
       "<style scoped>\n",
       "    .dataframe tbody tr th:only-of-type {\n",
       "        vertical-align: middle;\n",
       "    }\n",
       "\n",
       "    .dataframe tbody tr th {\n",
       "        vertical-align: top;\n",
       "    }\n",
       "\n",
       "    .dataframe thead th {\n",
       "        text-align: right;\n",
       "    }\n",
       "</style>\n",
       "<table border=\"1\" class=\"dataframe\">\n",
       "  <thead>\n",
       "    <tr style=\"text-align: right;\">\n",
       "      <th></th>\n",
       "      <th>RowID</th>\n",
       "      <th>Distillery</th>\n",
       "      <th>Body</th>\n",
       "      <th>Sweetness</th>\n",
       "      <th>Smoky</th>\n",
       "      <th>Medicinal</th>\n",
       "      <th>Tobacco</th>\n",
       "      <th>Honey</th>\n",
       "      <th>Spicy</th>\n",
       "      <th>Winey</th>\n",
       "      <th>Nutty</th>\n",
       "      <th>Malty</th>\n",
       "      <th>Fruity</th>\n",
       "      <th>Floral</th>\n",
       "      <th>Postcode</th>\n",
       "      <th>Latitude</th>\n",
       "      <th>Longitude</th>\n",
       "    </tr>\n",
       "  </thead>\n",
       "  <tbody>\n",
       "    <tr>\n",
       "      <th>0</th>\n",
       "      <td>1</td>\n",
       "      <td>Aberfeldy</td>\n",
       "      <td>2</td>\n",
       "      <td>2</td>\n",
       "      <td>2</td>\n",
       "      <td>0</td>\n",
       "      <td>0</td>\n",
       "      <td>2</td>\n",
       "      <td>1</td>\n",
       "      <td>2</td>\n",
       "      <td>2</td>\n",
       "      <td>2</td>\n",
       "      <td>2</td>\n",
       "      <td>2</td>\n",
       "      <td>\\tPH15 2EB</td>\n",
       "      <td>28.658</td>\n",
       "      <td>-7.4968</td>\n",
       "    </tr>\n",
       "    <tr>\n",
       "      <th>1</th>\n",
       "      <td>2</td>\n",
       "      <td>Aberlour</td>\n",
       "      <td>3</td>\n",
       "      <td>3</td>\n",
       "      <td>1</td>\n",
       "      <td>0</td>\n",
       "      <td>0</td>\n",
       "      <td>4</td>\n",
       "      <td>3</td>\n",
       "      <td>2</td>\n",
       "      <td>2</td>\n",
       "      <td>3</td>\n",
       "      <td>3</td>\n",
       "      <td>2</td>\n",
       "      <td>\\tAB38 9PJ</td>\n",
       "      <td>32.634</td>\n",
       "      <td>-8.4257</td>\n",
       "    </tr>\n",
       "    <tr>\n",
       "      <th>2</th>\n",
       "      <td>3</td>\n",
       "      <td>AnCnoc</td>\n",
       "      <td>1</td>\n",
       "      <td>3</td>\n",
       "      <td>2</td>\n",
       "      <td>0</td>\n",
       "      <td>0</td>\n",
       "      <td>2</td>\n",
       "      <td>0</td>\n",
       "      <td>0</td>\n",
       "      <td>2</td>\n",
       "      <td>2</td>\n",
       "      <td>3</td>\n",
       "      <td>2</td>\n",
       "      <td>\\tAB5 5LI</td>\n",
       "      <td>35.296</td>\n",
       "      <td>-8.3932</td>\n",
       "    </tr>\n",
       "    <tr>\n",
       "      <th>3</th>\n",
       "      <td>4</td>\n",
       "      <td>Ardbeg</td>\n",
       "      <td>4</td>\n",
       "      <td>1</td>\n",
       "      <td>4</td>\n",
       "      <td>4</td>\n",
       "      <td>0</td>\n",
       "      <td>0</td>\n",
       "      <td>2</td>\n",
       "      <td>0</td>\n",
       "      <td>1</td>\n",
       "      <td>2</td>\n",
       "      <td>1</td>\n",
       "      <td>0</td>\n",
       "      <td>\\tPA42 7EB</td>\n",
       "      <td>14.156</td>\n",
       "      <td>-6.4622</td>\n",
       "    </tr>\n",
       "    <tr>\n",
       "      <th>4</th>\n",
       "      <td>5</td>\n",
       "      <td>Ardmore</td>\n",
       "      <td>2</td>\n",
       "      <td>2</td>\n",
       "      <td>2</td>\n",
       "      <td>0</td>\n",
       "      <td>0</td>\n",
       "      <td>1</td>\n",
       "      <td>1</td>\n",
       "      <td>1</td>\n",
       "      <td>2</td>\n",
       "      <td>3</td>\n",
       "      <td>1</td>\n",
       "      <td>1</td>\n",
       "      <td>\\tAB54 4NH</td>\n",
       "      <td>35.535</td>\n",
       "      <td>-8.2914</td>\n",
       "    </tr>\n",
       "  </tbody>\n",
       "</table>\n",
       "</div>"
      ],
      "text/plain": [
       "   RowID Distillery  Body  Sweetness  Smoky  Medicinal  Tobacco  Honey  Spicy  \\\n",
       "0      1  Aberfeldy     2          2      2          0        0      2      1   \n",
       "1      2   Aberlour     3          3      1          0        0      4      3   \n",
       "2      3     AnCnoc     1          3      2          0        0      2      0   \n",
       "3      4     Ardbeg     4          1      4          4        0      0      2   \n",
       "4      5    Ardmore     2          2      2          0        0      1      1   \n",
       "\n",
       "   Winey  Nutty  Malty  Fruity  Floral    Postcode  Latitude  Longitude  \n",
       "0      2      2      2       2       2  \\tPH15 2EB    28.658    -7.4968  \n",
       "1      2      2      3       3       2  \\tAB38 9PJ    32.634    -8.4257  \n",
       "2      0      2      2       3       2   \\tAB5 5LI    35.296    -8.3932  \n",
       "3      0      1      2       1       0  \\tPA42 7EB    14.156    -6.4622  \n",
       "4      1      2      3       1       1  \\tAB54 4NH    35.535    -8.2914  "
      ]
     },
     "execution_count": 28,
     "metadata": {},
     "output_type": "execute_result"
    }
   ],
   "source": [
    "df=pd.read_csv(r'../Scotish Whisky/whisky.csv')\n",
    "df.head()"
   ]
  },
  {
   "cell_type": "code",
   "execution_count": 29,
   "metadata": {},
   "outputs": [
    {
     "data": {
      "text/plain": [
       "(86, 17)"
      ]
     },
     "execution_count": 29,
     "metadata": {},
     "output_type": "execute_result"
    }
   ],
   "source": [
    "df.shape"
   ]
  },
  {
   "cell_type": "code",
   "execution_count": 30,
   "metadata": {},
   "outputs": [
    {
     "data": {
      "text/html": [
       "<div>\n",
       "<style scoped>\n",
       "    .dataframe tbody tr th:only-of-type {\n",
       "        vertical-align: middle;\n",
       "    }\n",
       "\n",
       "    .dataframe tbody tr th {\n",
       "        vertical-align: top;\n",
       "    }\n",
       "\n",
       "    .dataframe thead th {\n",
       "        text-align: right;\n",
       "    }\n",
       "</style>\n",
       "<table border=\"1\" class=\"dataframe\">\n",
       "  <thead>\n",
       "    <tr style=\"text-align: right;\">\n",
       "      <th></th>\n",
       "      <th>RowID</th>\n",
       "      <th>Body</th>\n",
       "      <th>Sweetness</th>\n",
       "      <th>Smoky</th>\n",
       "      <th>Medicinal</th>\n",
       "      <th>Tobacco</th>\n",
       "      <th>Honey</th>\n",
       "      <th>Spicy</th>\n",
       "      <th>Winey</th>\n",
       "      <th>Nutty</th>\n",
       "      <th>Malty</th>\n",
       "      <th>Fruity</th>\n",
       "      <th>Floral</th>\n",
       "      <th>Latitude</th>\n",
       "      <th>Longitude</th>\n",
       "    </tr>\n",
       "  </thead>\n",
       "  <tbody>\n",
       "    <tr>\n",
       "      <th>count</th>\n",
       "      <td>86.000000</td>\n",
       "      <td>86.000000</td>\n",
       "      <td>86.000000</td>\n",
       "      <td>86.000000</td>\n",
       "      <td>86.000000</td>\n",
       "      <td>86.000000</td>\n",
       "      <td>86.000000</td>\n",
       "      <td>86.000000</td>\n",
       "      <td>86.000000</td>\n",
       "      <td>86.000000</td>\n",
       "      <td>86.000000</td>\n",
       "      <td>86.000000</td>\n",
       "      <td>86.000000</td>\n",
       "      <td>86.000000</td>\n",
       "      <td>86.000000</td>\n",
       "    </tr>\n",
       "    <tr>\n",
       "      <th>mean</th>\n",
       "      <td>43.500000</td>\n",
       "      <td>2.069767</td>\n",
       "      <td>2.290698</td>\n",
       "      <td>1.534884</td>\n",
       "      <td>0.546512</td>\n",
       "      <td>0.116279</td>\n",
       "      <td>1.244186</td>\n",
       "      <td>1.383721</td>\n",
       "      <td>0.976744</td>\n",
       "      <td>1.465116</td>\n",
       "      <td>1.802326</td>\n",
       "      <td>1.802326</td>\n",
       "      <td>1.697674</td>\n",
       "      <td>28.724716</td>\n",
       "      <td>-8.026597</td>\n",
       "    </tr>\n",
       "    <tr>\n",
       "      <th>std</th>\n",
       "      <td>24.969982</td>\n",
       "      <td>0.930410</td>\n",
       "      <td>0.717287</td>\n",
       "      <td>0.863613</td>\n",
       "      <td>0.990032</td>\n",
       "      <td>0.322439</td>\n",
       "      <td>0.853175</td>\n",
       "      <td>0.784686</td>\n",
       "      <td>0.932760</td>\n",
       "      <td>0.821730</td>\n",
       "      <td>0.629094</td>\n",
       "      <td>0.779438</td>\n",
       "      <td>0.855017</td>\n",
       "      <td>6.788905</td>\n",
       "      <td>0.880242</td>\n",
       "    </tr>\n",
       "    <tr>\n",
       "      <th>min</th>\n",
       "      <td>1.000000</td>\n",
       "      <td>0.000000</td>\n",
       "      <td>1.000000</td>\n",
       "      <td>0.000000</td>\n",
       "      <td>0.000000</td>\n",
       "      <td>0.000000</td>\n",
       "      <td>0.000000</td>\n",
       "      <td>0.000000</td>\n",
       "      <td>0.000000</td>\n",
       "      <td>0.000000</td>\n",
       "      <td>0.000000</td>\n",
       "      <td>0.000000</td>\n",
       "      <td>0.000000</td>\n",
       "      <td>12.668000</td>\n",
       "      <td>-10.092600</td>\n",
       "    </tr>\n",
       "    <tr>\n",
       "      <th>25%</th>\n",
       "      <td>22.250000</td>\n",
       "      <td>2.000000</td>\n",
       "      <td>2.000000</td>\n",
       "      <td>1.000000</td>\n",
       "      <td>0.000000</td>\n",
       "      <td>0.000000</td>\n",
       "      <td>1.000000</td>\n",
       "      <td>1.000000</td>\n",
       "      <td>0.000000</td>\n",
       "      <td>1.000000</td>\n",
       "      <td>1.000000</td>\n",
       "      <td>1.000000</td>\n",
       "      <td>1.000000</td>\n",
       "      <td>26.567250</td>\n",
       "      <td>-8.507700</td>\n",
       "    </tr>\n",
       "    <tr>\n",
       "      <th>50%</th>\n",
       "      <td>43.500000</td>\n",
       "      <td>2.000000</td>\n",
       "      <td>2.000000</td>\n",
       "      <td>1.000000</td>\n",
       "      <td>0.000000</td>\n",
       "      <td>0.000000</td>\n",
       "      <td>1.000000</td>\n",
       "      <td>1.000000</td>\n",
       "      <td>1.000000</td>\n",
       "      <td>2.000000</td>\n",
       "      <td>2.000000</td>\n",
       "      <td>2.000000</td>\n",
       "      <td>2.000000</td>\n",
       "      <td>31.951500</td>\n",
       "      <td>-8.398850</td>\n",
       "    </tr>\n",
       "    <tr>\n",
       "      <th>75%</th>\n",
       "      <td>64.750000</td>\n",
       "      <td>2.000000</td>\n",
       "      <td>3.000000</td>\n",
       "      <td>2.000000</td>\n",
       "      <td>1.000000</td>\n",
       "      <td>0.000000</td>\n",
       "      <td>2.000000</td>\n",
       "      <td>2.000000</td>\n",
       "      <td>1.000000</td>\n",
       "      <td>2.000000</td>\n",
       "      <td>2.000000</td>\n",
       "      <td>2.000000</td>\n",
       "      <td>2.000000</td>\n",
       "      <td>32.863000</td>\n",
       "      <td>-7.556975</td>\n",
       "    </tr>\n",
       "    <tr>\n",
       "      <th>max</th>\n",
       "      <td>86.000000</td>\n",
       "      <td>4.000000</td>\n",
       "      <td>4.000000</td>\n",
       "      <td>4.000000</td>\n",
       "      <td>4.000000</td>\n",
       "      <td>1.000000</td>\n",
       "      <td>4.000000</td>\n",
       "      <td>3.000000</td>\n",
       "      <td>4.000000</td>\n",
       "      <td>4.000000</td>\n",
       "      <td>3.000000</td>\n",
       "      <td>3.000000</td>\n",
       "      <td>4.000000</td>\n",
       "      <td>38.102000</td>\n",
       "      <td>-5.542600</td>\n",
       "    </tr>\n",
       "  </tbody>\n",
       "</table>\n",
       "</div>"
      ],
      "text/plain": [
       "           RowID       Body  Sweetness      Smoky  Medicinal    Tobacco  \\\n",
       "count  86.000000  86.000000  86.000000  86.000000  86.000000  86.000000   \n",
       "mean   43.500000   2.069767   2.290698   1.534884   0.546512   0.116279   \n",
       "std    24.969982   0.930410   0.717287   0.863613   0.990032   0.322439   \n",
       "min     1.000000   0.000000   1.000000   0.000000   0.000000   0.000000   \n",
       "25%    22.250000   2.000000   2.000000   1.000000   0.000000   0.000000   \n",
       "50%    43.500000   2.000000   2.000000   1.000000   0.000000   0.000000   \n",
       "75%    64.750000   2.000000   3.000000   2.000000   1.000000   0.000000   \n",
       "max    86.000000   4.000000   4.000000   4.000000   4.000000   1.000000   \n",
       "\n",
       "           Honey      Spicy      Winey      Nutty      Malty     Fruity  \\\n",
       "count  86.000000  86.000000  86.000000  86.000000  86.000000  86.000000   \n",
       "mean    1.244186   1.383721   0.976744   1.465116   1.802326   1.802326   \n",
       "std     0.853175   0.784686   0.932760   0.821730   0.629094   0.779438   \n",
       "min     0.000000   0.000000   0.000000   0.000000   0.000000   0.000000   \n",
       "25%     1.000000   1.000000   0.000000   1.000000   1.000000   1.000000   \n",
       "50%     1.000000   1.000000   1.000000   2.000000   2.000000   2.000000   \n",
       "75%     2.000000   2.000000   1.000000   2.000000   2.000000   2.000000   \n",
       "max     4.000000   3.000000   4.000000   4.000000   3.000000   3.000000   \n",
       "\n",
       "          Floral   Latitude  Longitude  \n",
       "count  86.000000  86.000000  86.000000  \n",
       "mean    1.697674  28.724716  -8.026597  \n",
       "std     0.855017   6.788905   0.880242  \n",
       "min     0.000000  12.668000 -10.092600  \n",
       "25%     1.000000  26.567250  -8.507700  \n",
       "50%     2.000000  31.951500  -8.398850  \n",
       "75%     2.000000  32.863000  -7.556975  \n",
       "max     4.000000  38.102000  -5.542600  "
      ]
     },
     "execution_count": 30,
     "metadata": {},
     "output_type": "execute_result"
    }
   ],
   "source": [
    "df.describe()"
   ]
  },
  {
   "cell_type": "code",
   "execution_count": 31,
   "metadata": {},
   "outputs": [
    {
     "data": {
      "text/plain": [
       "RowID           int64\n",
       "Distillery     object\n",
       "Body            int64\n",
       "Sweetness       int64\n",
       "Smoky           int64\n",
       "Medicinal       int64\n",
       "Tobacco         int64\n",
       "Honey           int64\n",
       "Spicy           int64\n",
       "Winey           int64\n",
       "Nutty           int64\n",
       "Malty           int64\n",
       "Fruity          int64\n",
       "Floral          int64\n",
       "Postcode       object\n",
       "Latitude      float64\n",
       "Longitude     float64\n",
       "dtype: object"
      ]
     },
     "execution_count": 31,
     "metadata": {},
     "output_type": "execute_result"
    }
   ],
   "source": [
    "df.dtypes"
   ]
  },
  {
   "cell_type": "markdown",
   "metadata": {},
   "source": [
    "#### Correlation among variables/attributes"
   ]
  },
  {
   "cell_type": "code",
   "execution_count": 32,
   "metadata": {},
   "outputs": [
    {
     "data": {
      "text/plain": [
       "<matplotlib.axes._subplots.AxesSubplot at 0x1d623de2d68>"
      ]
     },
     "execution_count": 32,
     "metadata": {},
     "output_type": "execute_result"
    },
    {
     "data": {
      "image/png": "[encoded data removed]",
      "text/plain": [
       "<Figure size 432x288 with 2 Axes>"
      ]
     },
     "metadata": {
      "needs_background": "light"
     },
     "output_type": "display_data"
    }
   ],
   "source": [
    "corm=df.corr()\n",
    "sns.heatmap(corm)"
   ]
  },
  {
   "cell_type": "markdown",
   "metadata": {},
   "source": [
    "#### How to choose number of clusters: Using the elbow method\n"
   ]
  },
  {
   "cell_type": "code",
   "execution_count": 33,
   "metadata": {},
   "outputs": [],
   "source": [
    "from sklearn.cluster import KMeans"
   ]
  },
  {
   "cell_type": "code",
   "execution_count": 34,
   "metadata": {},
   "outputs": [
    {
     "data": {
      "image/png": "[encoded data removed]",
      "text/plain": [
       "<Figure size 432x288 with 1 Axes>"
      ]
     },
     "metadata": {
      "needs_background": "light"
     },
     "output_type": "display_data"
    }
   ],
   "source": [
    "SS = []\n",
    "NC = range(1,20)\n",
    "for k in NC:\n",
    "    km = KMeans(n_clusters=k)\n",
    "    km = km.fit(df.iloc[:,2:14])\n",
    "    SS.append(km.inertia_)\n",
    "plt.plot(NC,SS)\n",
    "plt.xlabel('k')\n",
    "plt.ylabel('SS')\n",
    "plt.show()"
   ]
  },
  {
   "cell_type": "markdown",
   "metadata": {},
   "source": [
    "##### We can see @ k=5  the SS dramatically decreases so we use k=5 for our algorithm"
   ]
  },
  {
   "cell_type": "markdown",
   "metadata": {},
   "source": [
    "Fit the KMeans alogorithm to the data"
   ]
  },
  {
   "cell_type": "code",
   "execution_count": 35,
   "metadata": {},
   "outputs": [],
   "source": [
    "X = df.iloc[:,2:14]\n",
    "y = df['Distillery']"
   ]
  },
  {
   "cell_type": "markdown",
   "metadata": {},
   "source": [
    "#### Fit the model to the Training data"
   ]
  },
  {
   "cell_type": "code",
   "execution_count": 36,
   "metadata": {},
   "outputs": [
    {
     "data": {
      "text/plain": [
       "KMeans(algorithm='auto', copy_x=True, init='k-means++', max_iter=300,\n",
       "       n_clusters=5, n_init=10, n_jobs=None, precompute_distances='auto',\n",
       "       random_state=0, tol=0.0001, verbose=0)"
      ]
     },
     "execution_count": 36,
     "metadata": {},
     "output_type": "execute_result"
    }
   ],
   "source": [
    "kmc5 = KMeans(n_clusters=5, random_state=0) # choose any arguments for the KMeans algorithm\n",
    "cluster=kmc5.fit(X)\n",
    "cluster"
   ]
  },
  {
   "cell_type": "markdown",
   "metadata": {},
   "source": [
    "#### Predict cluster labels assigned to each data point"
   ]
  },
  {
   "cell_type": "code",
   "execution_count": 37,
   "metadata": {},
   "outputs": [
    {
     "data": {
      "text/plain": [
       "array([2, 2, 0, 1, 4, 0, 0, 2, 0, 4, 3, 2, 2, 0, 2, 2, 0, 2, 4, 4, 0, 1,\n",
       "       0, 1, 2, 0, 3, 4, 0, 2, 0, 2, 4, 0, 4, 0, 4, 0, 2, 4, 0, 0, 3, 2,\n",
       "       2, 0, 0, 0, 2, 0, 0, 4, 2, 4, 0, 4, 2, 1, 1, 0, 0, 2, 3, 0, 0, 3,\n",
       "       4, 4, 4, 0, 2, 2, 0, 0, 4, 2, 0, 1, 0, 0, 0, 0, 4, 0, 4, 0])"
      ]
     },
     "execution_count": 37,
     "metadata": {},
     "output_type": "execute_result"
    }
   ],
   "source": [
    "# One we fit the algoritum on X, with .labels_ method the algorithm assigns each data point (or row) to a particular cluster\n",
    "# the same result is obtained with .predict(X) method\n",
    "results=kmc5.labels_ \n",
    "results"
   ]
  },
  {
   "cell_type": "markdown",
   "metadata": {},
   "source": [
    "#### Let's see the cluster centers"
   ]
  },
  {
   "cell_type": "code",
   "execution_count": 38,
   "metadata": {},
   "outputs": [
    {
     "data": {
      "text/plain": [
       "array([[ 1.41666667e+00,  2.47222222e+00,  1.05555556e+00,\n",
       "         2.50000000e-01,  5.55555556e-02,  9.72222222e-01,\n",
       "         1.08333333e+00,  4.44444444e-01,  1.13888889e+00,\n",
       "         1.69444444e+00,  1.97222222e+00,  2.13888889e+00],\n",
       "       [ 3.66666667e+00,  1.50000000e+00,  3.66666667e+00,\n",
       "         3.33333333e+00,  6.66666667e-01,  1.66666667e-01,\n",
       "         1.66666667e+00,  5.00000000e-01,  1.16666667e+00,\n",
       "         1.33333333e+00,  1.16666667e+00,  1.66666667e-01],\n",
       "       [ 2.42857143e+00,  2.38095238e+00,  1.33333333e+00,\n",
       "         4.76190476e-02,  4.76190476e-02,  2.00000000e+00,\n",
       "         1.66666667e+00,  1.47619048e+00,  1.90476190e+00,\n",
       "         2.23809524e+00,  2.09523810e+00,  2.04761905e+00],\n",
       "       [ 3.80000000e+00,  2.40000000e+00,  1.80000000e+00,\n",
       "         0.00000000e+00, -1.38777878e-17,  1.80000000e+00,\n",
       "         1.60000000e+00,  3.20000000e+00,  2.20000000e+00,\n",
       "         1.40000000e+00,  2.00000000e+00,  1.20000000e+00],\n",
       "       [ 1.94444444e+00,  2.05555556e+00,  1.94444444e+00,\n",
       "         9.44444444e-01,  1.66666667e-01,  1.11111111e+00,\n",
       "         1.50000000e+00,  1.00000000e+00,  1.50000000e+00,\n",
       "         1.77777778e+00,  1.27777778e+00,  1.05555556e+00]])"
      ]
     },
     "execution_count": 38,
     "metadata": {},
     "output_type": "execute_result"
    }
   ],
   "source": [
    "# to see the cluster centers \n",
    "\n",
    "ccenter5 = kmc5.cluster_centers_\n",
    "ccenter5"
   ]
  },
  {
   "cell_type": "markdown",
   "metadata": {},
   "source": [
    "#### Lets Visualize the Clusters"
   ]
  },
  {
   "cell_type": "code",
   "execution_count": 39,
   "metadata": {},
   "outputs": [
    {
     "data": {
      "image/png": "[encoded data removed]",
      "text/plain": [
       "<Figure size 1000x1000 with 1 Axes>"
      ]
     },
     "metadata": {
      "needs_background": "light"
     },
     "output_type": "display_data"
    }
   ],
   "source": [
    "from sklearn.manifold import MDS\n",
    "\n",
    "plt.figure(figsize=(20, 20), dpi=50)\n",
    "plt.rcParams[\"font.size\"] = 15\n",
    "labels=y\n",
    "\n",
    "model = MDS(n_components=2, dissimilarity=\"euclidean\", random_state=0)\n",
    "out = model.fit_transform(X)\n",
    "plt.scatter(out[:, 0], out[:, 1], c=kmc5.labels_)\n",
    "\n",
    "                \n",
    "\n",
    "plt.show()\n",
    "    "
   ]
  },
  {
   "cell_type": "markdown",
   "metadata": {},
   "source": [
    "#### Add the results or clusters to each row in the dataframe and view the distillery in each cluster"
   ]
  },
  {
   "cell_type": "code",
   "execution_count": 40,
   "metadata": {},
   "outputs": [],
   "source": [
    "# Add cluster ctreated ny kMeans to the dataframe\n",
    "df['Cluster']=results\n"
   ]
  },
  {
   "cell_type": "code",
   "execution_count": 41,
   "metadata": {},
   "outputs": [
    {
     "data": {
      "text/plain": [
       "Cluster\n",
       "0    [AnCnoc, ArranIsleOf, Auchentoshan, Aultmore, ...\n",
       "1    [Ardbeg, Caol Ila, Clynelish, Lagavulin, Laphr...\n",
       "2    [Aberfeldy, Aberlour, Auchroisk, Belvenie, Ben...\n",
       "3    [Balmenach, Dailuaine, Glendronach, Macallan, ...\n",
       "4    [Ardmore, Balblair, Bowmore, Bruichladdich, Da...\n",
       "Name: Distillery, dtype: object"
      ]
     },
     "execution_count": 41,
     "metadata": {},
     "output_type": "execute_result"
    }
   ],
   "source": [
    "t= df.groupby('Cluster')['Distillery'].unique()\n",
    "t"
   ]
  },
  {
   "cell_type": "code",
   "execution_count": 42,
   "metadata": {},
   "outputs": [
    {
     "data": {
      "text/plain": [
       "[AnCnoc, ArranIsleOf, Auchentoshan, Aultmore, Benriach, Bladnoch, Bunnahabhain, Cardhu, Craigganmore, Dalwhinnie, Dufftown, GlenElgin, GlenGrant, GlenMoray, GlenSpey, Glenallachie, Glenfiddich, Glengoyne, Glenkinchie, Glenlossie, Glenmorangie, Inchgower, Linkwood, Loch Lomond, Mannochmore, Miltonduff, RoyalBrackla, Speyburn, Speyside, Strathmill, Tamdhu, Tamnavulin, Teaninich, Tobermory, Tomintoul, Tullibardine]    36\n",
       "[Aberfeldy, Aberlour, Auchroisk, Belvenie, BenNevis, Benrinnes, Benromach, BlairAthol, Craigallechie, Deanston, Edradour, GlenOrd, Glendullan, Glenfarclas, Glenlivet, Glenturret, Knochando, Longmorn, RoyalLochnagar, Scapa, Strathisla]                                                                                                                                                                                         21\n",
       "[Ardmore, Balblair, Bowmore, Bruichladdich, Dalmore, GlenDeveronMacduff, GlenGarioch, GlenKeith, GlenScotia, Glenrothes, Highland Park, Isle of Jura, Oban, OldFettercairn, OldPulteney, Springbank, Tomatin, Tormore]                                                                                                                                                                                                             18\n",
       "[Ardbeg, Caol Ila, Clynelish, Lagavulin, Laphroig, Talisker]                                                                                                                                                                                                                                                                                                                                                                        6\n",
       "[Balmenach, Dailuaine, Glendronach, Macallan, Mortlach]                                                                                                                                                                                                                                                                                                                                                                             5\n",
       "Name: cluster_name, dtype: int64"
      ]
     },
     "execution_count": 42,
     "metadata": {},
     "output_type": "execute_result"
    }
   ],
   "source": [
    "# Create a column cluster_name, print the clusters and count  the distillery in each cluster\n",
    "\n",
    "df['cluster_name']= df.groupby('Cluster')['Distillery'].transform('unique')\n",
    "df['cluster_name'].value_counts()"
   ]
  },
  {
   "cell_type": "code",
   "execution_count": 43,
   "metadata": {},
   "outputs": [
    {
     "data": {
      "text/html": [
       "<div>\n",
       "<style scoped>\n",
       "    .dataframe tbody tr th:only-of-type {\n",
       "        vertical-align: middle;\n",
       "    }\n",
       "\n",
       "    .dataframe tbody tr th {\n",
       "        vertical-align: top;\n",
       "    }\n",
       "\n",
       "    .dataframe thead th {\n",
       "        text-align: right;\n",
       "    }\n",
       "</style>\n",
       "<table border=\"1\" class=\"dataframe\">\n",
       "  <thead>\n",
       "    <tr style=\"text-align: right;\">\n",
       "      <th></th>\n",
       "      <th>RowID</th>\n",
       "      <th>Distillery</th>\n",
       "      <th>Body</th>\n",
       "      <th>Sweetness</th>\n",
       "      <th>Smoky</th>\n",
       "      <th>Medicinal</th>\n",
       "      <th>Tobacco</th>\n",
       "      <th>Honey</th>\n",
       "      <th>Spicy</th>\n",
       "      <th>Winey</th>\n",
       "      <th>Nutty</th>\n",
       "      <th>Malty</th>\n",
       "      <th>Fruity</th>\n",
       "      <th>Floral</th>\n",
       "      <th>Postcode</th>\n",
       "      <th>Latitude</th>\n",
       "      <th>Longitude</th>\n",
       "      <th>Cluster</th>\n",
       "      <th>cluster_name</th>\n",
       "    </tr>\n",
       "  </thead>\n",
       "  <tbody>\n",
       "    <tr>\n",
       "      <th>10</th>\n",
       "      <td>11</td>\n",
       "      <td>Balmenach</td>\n",
       "      <td>4</td>\n",
       "      <td>3</td>\n",
       "      <td>2</td>\n",
       "      <td>0</td>\n",
       "      <td>0</td>\n",
       "      <td>2</td>\n",
       "      <td>1</td>\n",
       "      <td>3</td>\n",
       "      <td>3</td>\n",
       "      <td>0</td>\n",
       "      <td>1</td>\n",
       "      <td>2</td>\n",
       "      <td>\\tPH26 3PF</td>\n",
       "      <td>30.775</td>\n",
       "      <td>-8.2717</td>\n",
       "      <td>3</td>\n",
       "      <td>[Balmenach, Dailuaine, Glendronach, Macallan, ...</td>\n",
       "    </tr>\n",
       "    <tr>\n",
       "      <th>26</th>\n",
       "      <td>27</td>\n",
       "      <td>Dailuaine</td>\n",
       "      <td>4</td>\n",
       "      <td>2</td>\n",
       "      <td>2</td>\n",
       "      <td>0</td>\n",
       "      <td>0</td>\n",
       "      <td>1</td>\n",
       "      <td>2</td>\n",
       "      <td>2</td>\n",
       "      <td>2</td>\n",
       "      <td>2</td>\n",
       "      <td>2</td>\n",
       "      <td>1</td>\n",
       "      <td>\\tAB38 7RE</td>\n",
       "      <td>32.352</td>\n",
       "      <td>-8.4101</td>\n",
       "      <td>3</td>\n",
       "      <td>[Balmenach, Dailuaine, Glendronach, Macallan, ...</td>\n",
       "    </tr>\n",
       "  </tbody>\n",
       "</table>\n",
       "</div>"
      ],
      "text/plain": [
       "    RowID Distillery  Body  Sweetness  Smoky  Medicinal  Tobacco  Honey  \\\n",
       "10     11  Balmenach     4          3      2          0        0      2   \n",
       "26     27  Dailuaine     4          2      2          0        0      1   \n",
       "\n",
       "    Spicy  Winey  Nutty  Malty  Fruity  Floral    Postcode  Latitude  \\\n",
       "10      1      3      3      0       1       2  \\tPH26 3PF    30.775   \n",
       "26      2      2      2      2       2       1  \\tAB38 7RE    32.352   \n",
       "\n",
       "    Longitude  Cluster                                       cluster_name  \n",
       "10    -8.2717        3  [Balmenach, Dailuaine, Glendronach, Macallan, ...  \n",
       "26    -8.4101        3  [Balmenach, Dailuaine, Glendronach, Macallan, ...  "
      ]
     },
     "execution_count": 43,
     "metadata": {},
     "output_type": "execute_result"
    }
   ],
   "source": [
    "df.query('Distillery==\"Balmenach\"or Distillery== \"Dailuaine\"')"
   ]
  },
  {
   "cell_type": "markdown",
   "metadata": {},
   "source": [
    "#### Lets Try and plot the Distilleries on the map of Scotland whisky regions and try see if theer is a relation between  the location and the clusters"
   ]
  },
  {
   "cell_type": "markdown",
   "metadata": {},
   "source": [
    "##### Define the bounding box"
   ]
  },
  {
   "cell_type": "code",
   "execution_count": 44,
   "metadata": {},
   "outputs": [
    {
     "data": {
      "text/plain": [
       "(-10.0926, -5.5426, 12.668, 38.102)"
      ]
     },
     "execution_count": 44,
     "metadata": {},
     "output_type": "execute_result"
    }
   ],
   "source": [
    "BBox = (df.Longitude.min(),df.Longitude.max(),df.Latitude.min(),df.Latitude.max())\n",
    "BBox"
   ]
  },
  {
   "cell_type": "markdown",
   "metadata": {},
   "source": [
    "##### Get your Map\n",
    "\n",
    "    Go to www.opestreetmap.org website and get the desired map ny entering the bounding box data"
   ]
  },
  {
   "cell_type": "code",
   "execution_count": null,
   "metadata": {},
   "outputs": [],
   "source": []
  }
 ],
 "metadata": {
  "kernelspec": {
   "display_name": "Python 3",
   "language": "python",
   "name": "python3"
  },
  "language_info": {
   "codemirror_mode": {
    "name": "ipython",
    "version": 3
   },
   "file_extension": ".py",
   "mimetype": "text/x-python",
   "name": "python",
   "nbconvert_exporter": "python",
   "pygments_lexer": "ipython3",
   "version": "3.7.3"
  }
 },
 "nbformat": 4,
 "nbformat_minor": 2
}
